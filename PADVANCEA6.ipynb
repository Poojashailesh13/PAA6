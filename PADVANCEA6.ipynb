{
 "cells": [
  {
   "cell_type": "raw",
   "id": "0f858b9d",
   "metadata": {},
   "source": [
    "Q1. Describe three applications for exception processing.\n",
    "ANS- A single try statement can have multiple except statements. This is useful when the try block contains statements that may throw different types of exceptions.\n",
    "\n",
    "You can also provide a generic except clause, which handles any exception.\n",
    "\n",
    "After the except clause(s), you can include an else-clause. The code in the else-block executes if the code in the try: block does not raise an exception.\n",
    "\n",
    "The else-block is a good place for code that does not need the try: block's protection"
   ]
  },
  {
   "cell_type": "raw",
   "id": "0c5bd882",
   "metadata": {},
   "source": [
    "Q2. What happens if you dont do something extra to treat an exception?\n",
    "ans- When an exception occurred, if you don't handle it, the program terminates abruptly and the code past the line that caused the exception will not get executed"
   ]
  },
  {
   "cell_type": "raw",
   "id": "fe977a25",
   "metadata": {},
   "source": [
    "Q3. What are your options for recovering from an exception in your script?\n",
    "ans- A single try statement can have multiple except statements. ...\n",
    "     You can also provide a generic except clause, which handles any exception.\n",
    "     After the except clause(s), you can include an else-clause. ...\n",
    "     The else-block is a good place for code that does not need the try: block's protection.\n"
   ]
  },
  {
   "cell_type": "raw",
   "id": "f36aa772",
   "metadata": {},
   "source": [
    "Q4. Describe two methods for triggering exceptions in your script.\n",
    "ans- Try – This method catches the exceptions raised by the program.\n",
    "    raise – Triggers an exception manually using custom exceptions."
   ]
  },
  {
   "cell_type": "raw",
   "id": "4cf155ce",
   "metadata": {},
   "source": [
    "Q5. Identify two methods for specifying actions to be executed at termination time, regardless of\n",
    "whether or not an exception exists.\n",
    "ans- the optional else clause contains codes to be executed if no exception occurs. The optional finally block contains codes to be executed irrespective of whether an exception occurs or not."
   ]
  }
 ],
 "metadata": {
  "kernelspec": {
   "display_name": "Python 3 (ipykernel)",
   "language": "python",
   "name": "python3"
  },
  "language_info": {
   "codemirror_mode": {
    "name": "ipython",
    "version": 3
   },
   "file_extension": ".py",
   "mimetype": "text/x-python",
   "name": "python",
   "nbconvert_exporter": "python",
   "pygments_lexer": "ipython3",
   "version": "3.9.7"
  }
 },
 "nbformat": 4,
 "nbformat_minor": 5
}
